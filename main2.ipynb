{
 "cells": [
  {
   "cell_type": "code",
   "execution_count": 58,
   "id": "d5b143d5",
   "metadata": {},
   "outputs": [],
   "source": [
    "import pandas as pd\n",
    "import numpy as np\n",
    "import matplotlib.pyplot as plt\n",
    "import seaborn as sns\n",
    "import warnings\n",
    "warnings.filterwarnings(\"ignore\")\n",
    "from xgboost import XGBRegressor\n",
    "%matplotlib inline\n",
    "from sklearn.model_selection import train_test_split, RandomizedSearchCV\n",
    "from sklearn.preprocessing import LabelEncoder, StandardScaler\n",
    "from sklearn.linear_model import LinearRegression\n",
    "from sklearn.metrics import mean_squared_error, mean_absolute_error\n",
    "from sklearn.tree import DecisionTreeRegressor\n",
    "from sklearn.ensemble import RandomForestRegressor"
   ]
  },
  {
   "cell_type": "code",
   "execution_count": 4,
   "id": "92414abc",
   "metadata": {},
   "outputs": [],
   "source": [
    "train_df=pd.read_csv(\"./playground-series-s5e4/train.csv\")\n",
    "test_df=pd.read_csv(\"./playground-series-s5e4/test.csv\")"
   ]
  },
  {
   "cell_type": "code",
   "execution_count": 5,
   "id": "3ad8b8d1",
   "metadata": {},
   "outputs": [
    {
     "data": {
      "text/plain": [
       "id                              0.000000\n",
       "Podcast_Name                    0.000000\n",
       "Episode_Title                   0.000000\n",
       "Episode_Length_minutes         11.612400\n",
       "Genre                           0.000000\n",
       "Host_Popularity_percentage      0.000000\n",
       "Publication_Day                 0.000000\n",
       "Publication_Time                0.000000\n",
       "Guest_Popularity_percentage    19.470667\n",
       "Number_of_Ads                   0.000133\n",
       "Episode_Sentiment               0.000000\n",
       "Listening_Time_minutes          0.000000\n",
       "dtype: float64"
      ]
     },
     "execution_count": 5,
     "metadata": {},
     "output_type": "execute_result"
    }
   ],
   "source": [
    "train_df.isna().mean()*100"
   ]
  },
  {
   "cell_type": "code",
   "execution_count": 6,
   "id": "179a4cf3",
   "metadata": {},
   "outputs": [],
   "source": [
    "train_df['Episode_Length_minutes']=train_df['Episode_Length_minutes'].fillna(train_df['Episode_Length_minutes'].mean())\n",
    "train_df['Guest_Popularity_percentage']=train_df['Guest_Popularity_percentage'].fillna(train_df['Guest_Popularity_percentage'].mean())"
   ]
  },
  {
   "cell_type": "code",
   "execution_count": 7,
   "id": "658a0a69",
   "metadata": {},
   "outputs": [],
   "source": [
    "train_df.dropna(inplace=True)"
   ]
  },
  {
   "cell_type": "code",
   "execution_count": 8,
   "id": "0380d1e2",
   "metadata": {},
   "outputs": [
    {
     "data": {
      "text/plain": [
       "id                             0.0\n",
       "Podcast_Name                   0.0\n",
       "Episode_Title                  0.0\n",
       "Episode_Length_minutes         0.0\n",
       "Genre                          0.0\n",
       "Host_Popularity_percentage     0.0\n",
       "Publication_Day                0.0\n",
       "Publication_Time               0.0\n",
       "Guest_Popularity_percentage    0.0\n",
       "Number_of_Ads                  0.0\n",
       "Episode_Sentiment              0.0\n",
       "Listening_Time_minutes         0.0\n",
       "dtype: float64"
      ]
     },
     "execution_count": 8,
     "metadata": {},
     "output_type": "execute_result"
    }
   ],
   "source": [
    "train_df.isna().mean()*100"
   ]
  },
  {
   "cell_type": "code",
   "execution_count": 9,
   "id": "72588e37",
   "metadata": {},
   "outputs": [
    {
     "data": {
      "text/plain": [
       "id                              0.0000\n",
       "Podcast_Name                    0.0000\n",
       "Episode_Title                   0.0000\n",
       "Episode_Length_minutes         11.4944\n",
       "Genre                           0.0000\n",
       "Host_Popularity_percentage      0.0000\n",
       "Publication_Day                 0.0000\n",
       "Publication_Time                0.0000\n",
       "Guest_Popularity_percentage    19.5328\n",
       "Number_of_Ads                   0.0000\n",
       "Episode_Sentiment               0.0000\n",
       "dtype: float64"
      ]
     },
     "execution_count": 9,
     "metadata": {},
     "output_type": "execute_result"
    }
   ],
   "source": [
    "test_df.isna().mean()*100"
   ]
  },
  {
   "cell_type": "code",
   "execution_count": 10,
   "id": "9b6d25cf",
   "metadata": {},
   "outputs": [],
   "source": [
    "test_df['Episode_Length_minutes']=test_df['Episode_Length_minutes'].fillna(test_df['Episode_Length_minutes'].mean())\n",
    "test_df['Guest_Popularity_percentage']=test_df['Guest_Popularity_percentage'].fillna(test_df['Guest_Popularity_percentage'].mean())"
   ]
  },
  {
   "cell_type": "code",
   "execution_count": 11,
   "id": "c49c2607",
   "metadata": {},
   "outputs": [
    {
     "data": {
      "text/plain": [
       "id                             0.0\n",
       "Podcast_Name                   0.0\n",
       "Episode_Title                  0.0\n",
       "Episode_Length_minutes         0.0\n",
       "Genre                          0.0\n",
       "Host_Popularity_percentage     0.0\n",
       "Publication_Day                0.0\n",
       "Publication_Time               0.0\n",
       "Guest_Popularity_percentage    0.0\n",
       "Number_of_Ads                  0.0\n",
       "Episode_Sentiment              0.0\n",
       "dtype: float64"
      ]
     },
     "execution_count": 11,
     "metadata": {},
     "output_type": "execute_result"
    }
   ],
   "source": [
    "test_df.isna().mean()*100"
   ]
  },
  {
   "cell_type": "markdown",
   "id": "afce3aef",
   "metadata": {},
   "source": [
    "### Please refer to my Podcast Listening time prediciton for EDA and other preprocessing steps"
   ]
  },
  {
   "cell_type": "code",
   "execution_count": 12,
   "id": "ad4a2b6a",
   "metadata": {},
   "outputs": [],
   "source": [
    "test_ids=test_df['id']"
   ]
  },
  {
   "cell_type": "code",
   "execution_count": 13,
   "id": "335745b7",
   "metadata": {},
   "outputs": [
    {
     "data": {
      "text/plain": [
       "['Podcast_Name',\n",
       " 'Episode_Title',\n",
       " 'Genre',\n",
       " 'Publication_Day',\n",
       " 'Publication_Time',\n",
       " 'Episode_Sentiment']"
      ]
     },
     "execution_count": 13,
     "metadata": {},
     "output_type": "execute_result"
    }
   ],
   "source": [
    "object_columns=[]\n",
    "for i in train_df.select_dtypes(include=['object']):\n",
    "    object_columns.append(i)\n",
    "\n",
    "object_columns"
   ]
  },
  {
   "cell_type": "code",
   "execution_count": 14,
   "id": "b9c30ca8",
   "metadata": {},
   "outputs": [],
   "source": [
    "le=LabelEncoder()\n",
    "le_Podcast_Name=LabelEncoder()\n",
    "le_Episode_Title=LabelEncoder()\n",
    "le_Genre=LabelEncoder()\n",
    "le_Publication_Day=LabelEncoder()\n",
    "le_Publication_Time=LabelEncoder()\n",
    "le_Episode_Sentiment=LabelEncoder()"
   ]
  },
  {
   "cell_type": "code",
   "execution_count": 15,
   "id": "ae232c0e",
   "metadata": {},
   "outputs": [],
   "source": [
    "#Training Data\n",
    "\n",
    "train_df['Podcast_Name']=le_Podcast_Name.fit_transform(train_df['Podcast_Name'])\n",
    "train_df['Episode_Title']=le_Episode_Title.fit_transform(train_df['Episode_Title'])\n",
    "train_df['Genre']=le_Genre.fit_transform(train_df['Genre'])\n",
    "train_df['Publication_Day']=le_Publication_Day.fit_transform(train_df['Publication_Day'])\n",
    "train_df['Publication_Time']=le_Publication_Time.fit_transform(train_df['Publication_Time'])\n",
    "train_df['Episode_Sentiment']=le_Episode_Sentiment.fit_transform(train_df['Episode_Sentiment'])\n",
    "\n",
    "#Testing data\n",
    "\n",
    "test_df['Podcast_Name']=le_Podcast_Name.fit_transform(test_df['Podcast_Name'])\n",
    "test_df['Episode_Title']=le_Episode_Title.fit_transform(test_df['Episode_Title'])\n",
    "test_df['Genre']=le_Genre.fit_transform(test_df['Genre'])\n",
    "test_df['Publication_Day']=le_Publication_Day.fit_transform(test_df['Publication_Day'])\n",
    "test_df['Publication_Time']=le_Publication_Time.fit_transform(test_df['Publication_Time'])\n",
    "test_df['Episode_Sentiment']=le_Episode_Sentiment.fit_transform(test_df['Episode_Sentiment'])"
   ]
  },
  {
   "cell_type": "code",
   "execution_count": 16,
   "id": "d60ee4b1",
   "metadata": {},
   "outputs": [
    {
     "data": {
      "text/html": [
       "<div>\n",
       "<style scoped>\n",
       "    .dataframe tbody tr th:only-of-type {\n",
       "        vertical-align: middle;\n",
       "    }\n",
       "\n",
       "    .dataframe tbody tr th {\n",
       "        vertical-align: top;\n",
       "    }\n",
       "\n",
       "    .dataframe thead th {\n",
       "        text-align: right;\n",
       "    }\n",
       "</style>\n",
       "<table border=\"1\" class=\"dataframe\">\n",
       "  <thead>\n",
       "    <tr style=\"text-align: right;\">\n",
       "      <th></th>\n",
       "      <th>id</th>\n",
       "      <th>Podcast_Name</th>\n",
       "      <th>Episode_Title</th>\n",
       "      <th>Episode_Length_minutes</th>\n",
       "      <th>Genre</th>\n",
       "      <th>Host_Popularity_percentage</th>\n",
       "      <th>Publication_Day</th>\n",
       "      <th>Publication_Time</th>\n",
       "      <th>Guest_Popularity_percentage</th>\n",
       "      <th>Number_of_Ads</th>\n",
       "      <th>Episode_Sentiment</th>\n",
       "      <th>Listening_Time_minutes</th>\n",
       "    </tr>\n",
       "  </thead>\n",
       "  <tbody>\n",
       "    <tr>\n",
       "      <th>0</th>\n",
       "      <td>0</td>\n",
       "      <td>34</td>\n",
       "      <td>98</td>\n",
       "      <td>64.504738</td>\n",
       "      <td>9</td>\n",
       "      <td>74.81</td>\n",
       "      <td>4</td>\n",
       "      <td>3</td>\n",
       "      <td>52.236449</td>\n",
       "      <td>0.0</td>\n",
       "      <td>2</td>\n",
       "      <td>31.41998</td>\n",
       "    </tr>\n",
       "    <tr>\n",
       "      <th>1</th>\n",
       "      <td>1</td>\n",
       "      <td>24</td>\n",
       "      <td>19</td>\n",
       "      <td>119.800000</td>\n",
       "      <td>1</td>\n",
       "      <td>66.95</td>\n",
       "      <td>2</td>\n",
       "      <td>0</td>\n",
       "      <td>75.950000</td>\n",
       "      <td>2.0</td>\n",
       "      <td>0</td>\n",
       "      <td>88.01241</td>\n",
       "    </tr>\n",
       "    <tr>\n",
       "      <th>2</th>\n",
       "      <td>2</td>\n",
       "      <td>40</td>\n",
       "      <td>8</td>\n",
       "      <td>73.900000</td>\n",
       "      <td>2</td>\n",
       "      <td>69.97</td>\n",
       "      <td>5</td>\n",
       "      <td>1</td>\n",
       "      <td>8.970000</td>\n",
       "      <td>0.0</td>\n",
       "      <td>0</td>\n",
       "      <td>44.92531</td>\n",
       "    </tr>\n",
       "    <tr>\n",
       "      <th>3</th>\n",
       "      <td>3</td>\n",
       "      <td>10</td>\n",
       "      <td>40</td>\n",
       "      <td>67.170000</td>\n",
       "      <td>8</td>\n",
       "      <td>57.22</td>\n",
       "      <td>1</td>\n",
       "      <td>2</td>\n",
       "      <td>78.700000</td>\n",
       "      <td>2.0</td>\n",
       "      <td>2</td>\n",
       "      <td>46.27824</td>\n",
       "    </tr>\n",
       "    <tr>\n",
       "      <th>4</th>\n",
       "      <td>4</td>\n",
       "      <td>31</td>\n",
       "      <td>85</td>\n",
       "      <td>110.510000</td>\n",
       "      <td>3</td>\n",
       "      <td>80.07</td>\n",
       "      <td>1</td>\n",
       "      <td>0</td>\n",
       "      <td>58.680000</td>\n",
       "      <td>3.0</td>\n",
       "      <td>1</td>\n",
       "      <td>75.61031</td>\n",
       "    </tr>\n",
       "  </tbody>\n",
       "</table>\n",
       "</div>"
      ],
      "text/plain": [
       "   id  Podcast_Name  Episode_Title  Episode_Length_minutes  Genre  \\\n",
       "0   0            34             98               64.504738      9   \n",
       "1   1            24             19              119.800000      1   \n",
       "2   2            40              8               73.900000      2   \n",
       "3   3            10             40               67.170000      8   \n",
       "4   4            31             85              110.510000      3   \n",
       "\n",
       "   Host_Popularity_percentage  Publication_Day  Publication_Time  \\\n",
       "0                       74.81                4                 3   \n",
       "1                       66.95                2                 0   \n",
       "2                       69.97                5                 1   \n",
       "3                       57.22                1                 2   \n",
       "4                       80.07                1                 0   \n",
       "\n",
       "   Guest_Popularity_percentage  Number_of_Ads  Episode_Sentiment  \\\n",
       "0                    52.236449            0.0                  2   \n",
       "1                    75.950000            2.0                  0   \n",
       "2                     8.970000            0.0                  0   \n",
       "3                    78.700000            2.0                  2   \n",
       "4                    58.680000            3.0                  1   \n",
       "\n",
       "   Listening_Time_minutes  \n",
       "0                31.41998  \n",
       "1                88.01241  \n",
       "2                44.92531  \n",
       "3                46.27824  \n",
       "4                75.61031  "
      ]
     },
     "execution_count": 16,
     "metadata": {},
     "output_type": "execute_result"
    }
   ],
   "source": [
    "train_df.head()"
   ]
  },
  {
   "cell_type": "code",
   "execution_count": 17,
   "id": "a908b27d",
   "metadata": {},
   "outputs": [
    {
     "data": {
      "text/html": [
       "<div>\n",
       "<style scoped>\n",
       "    .dataframe tbody tr th:only-of-type {\n",
       "        vertical-align: middle;\n",
       "    }\n",
       "\n",
       "    .dataframe tbody tr th {\n",
       "        vertical-align: top;\n",
       "    }\n",
       "\n",
       "    .dataframe thead th {\n",
       "        text-align: right;\n",
       "    }\n",
       "</style>\n",
       "<table border=\"1\" class=\"dataframe\">\n",
       "  <thead>\n",
       "    <tr style=\"text-align: right;\">\n",
       "      <th></th>\n",
       "      <th>id</th>\n",
       "      <th>Podcast_Name</th>\n",
       "      <th>Episode_Title</th>\n",
       "      <th>Episode_Length_minutes</th>\n",
       "      <th>Genre</th>\n",
       "      <th>Host_Popularity_percentage</th>\n",
       "      <th>Publication_Day</th>\n",
       "      <th>Publication_Time</th>\n",
       "      <th>Guest_Popularity_percentage</th>\n",
       "      <th>Number_of_Ads</th>\n",
       "      <th>Episode_Sentiment</th>\n",
       "    </tr>\n",
       "  </thead>\n",
       "  <tbody>\n",
       "    <tr>\n",
       "      <th>0</th>\n",
       "      <td>750000</td>\n",
       "      <td>11</td>\n",
       "      <td>71</td>\n",
       "      <td>78.96</td>\n",
       "      <td>2</td>\n",
       "      <td>38.11</td>\n",
       "      <td>2</td>\n",
       "      <td>1</td>\n",
       "      <td>53.330000</td>\n",
       "      <td>1.0</td>\n",
       "      <td>1</td>\n",
       "    </tr>\n",
       "    <tr>\n",
       "      <th>1</th>\n",
       "      <td>750001</td>\n",
       "      <td>36</td>\n",
       "      <td>16</td>\n",
       "      <td>27.87</td>\n",
       "      <td>5</td>\n",
       "      <td>71.29</td>\n",
       "      <td>3</td>\n",
       "      <td>2</td>\n",
       "      <td>52.192796</td>\n",
       "      <td>0.0</td>\n",
       "      <td>1</td>\n",
       "    </tr>\n",
       "    <tr>\n",
       "      <th>2</th>\n",
       "      <td>750002</td>\n",
       "      <td>24</td>\n",
       "      <td>3</td>\n",
       "      <td>69.10</td>\n",
       "      <td>1</td>\n",
       "      <td>67.89</td>\n",
       "      <td>0</td>\n",
       "      <td>1</td>\n",
       "      <td>97.510000</td>\n",
       "      <td>0.0</td>\n",
       "      <td>2</td>\n",
       "    </tr>\n",
       "    <tr>\n",
       "      <th>3</th>\n",
       "      <td>750003</td>\n",
       "      <td>4</td>\n",
       "      <td>71</td>\n",
       "      <td>115.39</td>\n",
       "      <td>1</td>\n",
       "      <td>23.40</td>\n",
       "      <td>3</td>\n",
       "      <td>2</td>\n",
       "      <td>51.750000</td>\n",
       "      <td>2.0</td>\n",
       "      <td>2</td>\n",
       "    </tr>\n",
       "    <tr>\n",
       "      <th>4</th>\n",
       "      <td>750004</td>\n",
       "      <td>27</td>\n",
       "      <td>46</td>\n",
       "      <td>72.32</td>\n",
       "      <td>4</td>\n",
       "      <td>58.10</td>\n",
       "      <td>6</td>\n",
       "      <td>2</td>\n",
       "      <td>11.300000</td>\n",
       "      <td>2.0</td>\n",
       "      <td>1</td>\n",
       "    </tr>\n",
       "  </tbody>\n",
       "</table>\n",
       "</div>"
      ],
      "text/plain": [
       "       id  Podcast_Name  Episode_Title  Episode_Length_minutes  Genre  \\\n",
       "0  750000            11             71                   78.96      2   \n",
       "1  750001            36             16                   27.87      5   \n",
       "2  750002            24              3                   69.10      1   \n",
       "3  750003             4             71                  115.39      1   \n",
       "4  750004            27             46                   72.32      4   \n",
       "\n",
       "   Host_Popularity_percentage  Publication_Day  Publication_Time  \\\n",
       "0                       38.11                2                 1   \n",
       "1                       71.29                3                 2   \n",
       "2                       67.89                0                 1   \n",
       "3                       23.40                3                 2   \n",
       "4                       58.10                6                 2   \n",
       "\n",
       "   Guest_Popularity_percentage  Number_of_Ads  Episode_Sentiment  \n",
       "0                    53.330000            1.0                  1  \n",
       "1                    52.192796            0.0                  1  \n",
       "2                    97.510000            0.0                  2  \n",
       "3                    51.750000            2.0                  2  \n",
       "4                    11.300000            2.0                  1  "
      ]
     },
     "execution_count": 17,
     "metadata": {},
     "output_type": "execute_result"
    }
   ],
   "source": [
    "test_df.head()"
   ]
  },
  {
   "cell_type": "code",
   "execution_count": 18,
   "id": "c4db2bc2",
   "metadata": {},
   "outputs": [],
   "source": [
    "X=train_df.drop(columns=['Listening_Time_minutes'])\n",
    "y=train_df['Listening_Time_minutes']"
   ]
  },
  {
   "cell_type": "code",
   "execution_count": 20,
   "id": "377557d2",
   "metadata": {},
   "outputs": [],
   "source": [
    "X_train, X_test, y_train, y_test=train_test_split(X, y, test_size=0.2, random_state=42)"
   ]
  },
  {
   "cell_type": "code",
   "execution_count": 27,
   "id": "cfc77d73",
   "metadata": {},
   "outputs": [],
   "source": [
    "scaler=StandardScaler()\n",
    "\n",
    "X_train_scaled=scaler.fit_transform(X_train)\n",
    "X_test_scaled=scaler.transform(X_test)\n",
    "test_df_scaled=scaler.transform(test_df)"
   ]
  },
  {
   "cell_type": "code",
   "execution_count": 28,
   "id": "cd6662fe",
   "metadata": {},
   "outputs": [],
   "source": [
    "linear_model=LinearRegression()"
   ]
  },
  {
   "cell_type": "code",
   "execution_count": 29,
   "id": "ee8dc1db",
   "metadata": {},
   "outputs": [],
   "source": [
    "linear_model.fit(X_train, y_train)\n",
    "\n",
    "linear_model_pred=linear_model.predict(X_test)"
   ]
  },
  {
   "cell_type": "code",
   "execution_count": 31,
   "id": "5ae734a0",
   "metadata": {},
   "outputs": [
    {
     "name": "stdout",
     "output_type": "stream",
     "text": [
      "Root mean sqaured error: 46.35834886918247\n"
     ]
    }
   ],
   "source": [
    "print(\"Root mean sqaured error:\", np.sqrt(mean_squared_error(y_test, linear_model_pred)))"
   ]
  },
  {
   "cell_type": "code",
   "execution_count": 32,
   "id": "4b6c1822",
   "metadata": {},
   "outputs": [],
   "source": [
    "linear_model.fit(X_train_scaled, y_train)\n",
    "\n",
    "linear_model_pred1=linear_model.predict(X_test_scaled)"
   ]
  },
  {
   "cell_type": "code",
   "execution_count": 33,
   "id": "bf03d154",
   "metadata": {},
   "outputs": [
    {
     "name": "stdout",
     "output_type": "stream",
     "text": [
      "Root mean sqaured error: 13.32971666544375\n"
     ]
    }
   ],
   "source": [
    "print(\"Root mean sqaured error:\", np.sqrt(mean_squared_error(y_test, linear_model_pred1)))"
   ]
  },
  {
   "cell_type": "markdown",
   "id": "23759c6c",
   "metadata": {},
   "source": [
    "### Result of Linear Regression"
   ]
  },
  {
   "cell_type": "code",
   "execution_count": 34,
   "id": "244d1267",
   "metadata": {},
   "outputs": [
    {
     "data": {
      "text/html": [
       "<style>#sk-container-id-1 {color: black;}#sk-container-id-1 pre{padding: 0;}#sk-container-id-1 div.sk-toggleable {background-color: white;}#sk-container-id-1 label.sk-toggleable__label {cursor: pointer;display: block;width: 100%;margin-bottom: 0;padding: 0.3em;box-sizing: border-box;text-align: center;}#sk-container-id-1 label.sk-toggleable__label-arrow:before {content: \"▸\";float: left;margin-right: 0.25em;color: #696969;}#sk-container-id-1 label.sk-toggleable__label-arrow:hover:before {color: black;}#sk-container-id-1 div.sk-estimator:hover label.sk-toggleable__label-arrow:before {color: black;}#sk-container-id-1 div.sk-toggleable__content {max-height: 0;max-width: 0;overflow: hidden;text-align: left;background-color: #f0f8ff;}#sk-container-id-1 div.sk-toggleable__content pre {margin: 0.2em;color: black;border-radius: 0.25em;background-color: #f0f8ff;}#sk-container-id-1 input.sk-toggleable__control:checked~div.sk-toggleable__content {max-height: 200px;max-width: 100%;overflow: auto;}#sk-container-id-1 input.sk-toggleable__control:checked~label.sk-toggleable__label-arrow:before {content: \"▾\";}#sk-container-id-1 div.sk-estimator input.sk-toggleable__control:checked~label.sk-toggleable__label {background-color: #d4ebff;}#sk-container-id-1 div.sk-label input.sk-toggleable__control:checked~label.sk-toggleable__label {background-color: #d4ebff;}#sk-container-id-1 input.sk-hidden--visually {border: 0;clip: rect(1px 1px 1px 1px);clip: rect(1px, 1px, 1px, 1px);height: 1px;margin: -1px;overflow: hidden;padding: 0;position: absolute;width: 1px;}#sk-container-id-1 div.sk-estimator {font-family: monospace;background-color: #f0f8ff;border: 1px dotted black;border-radius: 0.25em;box-sizing: border-box;margin-bottom: 0.5em;}#sk-container-id-1 div.sk-estimator:hover {background-color: #d4ebff;}#sk-container-id-1 div.sk-parallel-item::after {content: \"\";width: 100%;border-bottom: 1px solid gray;flex-grow: 1;}#sk-container-id-1 div.sk-label:hover label.sk-toggleable__label {background-color: #d4ebff;}#sk-container-id-1 div.sk-serial::before {content: \"\";position: absolute;border-left: 1px solid gray;box-sizing: border-box;top: 0;bottom: 0;left: 50%;z-index: 0;}#sk-container-id-1 div.sk-serial {display: flex;flex-direction: column;align-items: center;background-color: white;padding-right: 0.2em;padding-left: 0.2em;position: relative;}#sk-container-id-1 div.sk-item {position: relative;z-index: 1;}#sk-container-id-1 div.sk-parallel {display: flex;align-items: stretch;justify-content: center;background-color: white;position: relative;}#sk-container-id-1 div.sk-item::before, #sk-container-id-1 div.sk-parallel-item::before {content: \"\";position: absolute;border-left: 1px solid gray;box-sizing: border-box;top: 0;bottom: 0;left: 50%;z-index: -1;}#sk-container-id-1 div.sk-parallel-item {display: flex;flex-direction: column;z-index: 1;position: relative;background-color: white;}#sk-container-id-1 div.sk-parallel-item:first-child::after {align-self: flex-end;width: 50%;}#sk-container-id-1 div.sk-parallel-item:last-child::after {align-self: flex-start;width: 50%;}#sk-container-id-1 div.sk-parallel-item:only-child::after {width: 0;}#sk-container-id-1 div.sk-dashed-wrapped {border: 1px dashed gray;margin: 0 0.4em 0.5em 0.4em;box-sizing: border-box;padding-bottom: 0.4em;background-color: white;}#sk-container-id-1 div.sk-label label {font-family: monospace;font-weight: bold;display: inline-block;line-height: 1.2em;}#sk-container-id-1 div.sk-label-container {text-align: center;}#sk-container-id-1 div.sk-container {/* jupyter's `normalize.less` sets `[hidden] { display: none; }` but bootstrap.min.css set `[hidden] { display: none !important; }` so we also need the `!important` here to be able to override the default hidden behavior on the sphinx rendered scikit-learn.org. See: https://github.com/scikit-learn/scikit-learn/issues/21755 */display: inline-block !important;position: relative;}#sk-container-id-1 div.sk-text-repr-fallback {display: none;}</style><div id=\"sk-container-id-1\" class=\"sk-top-container\"><div class=\"sk-text-repr-fallback\"><pre>DecisionTreeRegressor()</pre><b>In a Jupyter environment, please rerun this cell to show the HTML representation or trust the notebook. <br />On GitHub, the HTML representation is unable to render, please try loading this page with nbviewer.org.</b></div><div class=\"sk-container\" hidden><div class=\"sk-item\"><div class=\"sk-estimator sk-toggleable\"><input class=\"sk-toggleable__control sk-hidden--visually\" id=\"sk-estimator-id-1\" type=\"checkbox\" checked><label for=\"sk-estimator-id-1\" class=\"sk-toggleable__label sk-toggleable__label-arrow\">DecisionTreeRegressor</label><div class=\"sk-toggleable__content\"><pre>DecisionTreeRegressor()</pre></div></div></div></div></div>"
      ],
      "text/plain": [
       "DecisionTreeRegressor()"
      ]
     },
     "execution_count": 34,
     "metadata": {},
     "output_type": "execute_result"
    }
   ],
   "source": [
    "dt_model=DecisionTreeRegressor()\n",
    "\n",
    "dt_model.fit(X_train_scaled, y_train)"
   ]
  },
  {
   "cell_type": "code",
   "execution_count": 35,
   "id": "168eed26",
   "metadata": {},
   "outputs": [],
   "source": [
    "dt_model_pred=dt_model.predict(X_test_scaled)"
   ]
  },
  {
   "cell_type": "code",
   "execution_count": 36,
   "id": "cd512979",
   "metadata": {},
   "outputs": [
    {
     "name": "stdout",
     "output_type": "stream",
     "text": [
      "Root mean sqaured error: 18.28370861408516\n"
     ]
    }
   ],
   "source": [
    "print(\"Root mean sqaured error:\", np.sqrt(mean_squared_error(y_test, dt_model_pred)))"
   ]
  },
  {
   "cell_type": "code",
   "execution_count": 41,
   "id": "c9fec721",
   "metadata": {},
   "outputs": [],
   "source": [
    "params = {\n",
    "    'max_depth': [5, 10, 15, 20],\n",
    "    'min_samples_split': [2, 10, 20],\n",
    "    'min_samples_leaf': [1, 5, 10],\n",
    "    'max_leaf_nodes': [None, 20, 50, 100]\n",
    "}\n",
    "\n",
    "randomized_search = RandomizedSearchCV(\n",
    "    estimator=dt_model,\n",
    "    param_distributions=params,\n",
    "    scoring='neg_root_mean_squared_error',\n",
    "    cv=3,\n",
    "    n_jobs=-1,\n",
    "    verbose=2\n",
    ")"
   ]
  },
  {
   "cell_type": "code",
   "execution_count": 42,
   "id": "6b83ad5a",
   "metadata": {},
   "outputs": [
    {
     "name": "stdout",
     "output_type": "stream",
     "text": [
      "Fitting 3 folds for each of 10 candidates, totalling 30 fits\n"
     ]
    }
   ],
   "source": [
    "randomized_search.fit(X_train_scaled, y_train)\n",
    "best_dt = randomized_search.best_estimator_"
   ]
  },
  {
   "cell_type": "code",
   "execution_count": 43,
   "id": "3a7b864a",
   "metadata": {},
   "outputs": [],
   "source": [
    "dt_model_pred1=best_dt.predict(X_test_scaled)"
   ]
  },
  {
   "cell_type": "code",
   "execution_count": 45,
   "id": "12340296",
   "metadata": {},
   "outputs": [
    {
     "name": "stdout",
     "output_type": "stream",
     "text": [
      "Root mean sqaured error: 13.17792003882689\n"
     ]
    }
   ],
   "source": [
    "print(\"Root mean sqaured error:\", np.sqrt(mean_squared_error(y_test, dt_model_pred1)))"
   ]
  },
  {
   "cell_type": "markdown",
   "id": "04c45ce5",
   "metadata": {},
   "source": [
    "### Result of DT Model after hyperparameter tuning"
   ]
  },
  {
   "cell_type": "code",
   "execution_count": 46,
   "id": "de070f6d",
   "metadata": {},
   "outputs": [
    {
     "data": {
      "text/html": [
       "<style>#sk-container-id-2 {color: black;}#sk-container-id-2 pre{padding: 0;}#sk-container-id-2 div.sk-toggleable {background-color: white;}#sk-container-id-2 label.sk-toggleable__label {cursor: pointer;display: block;width: 100%;margin-bottom: 0;padding: 0.3em;box-sizing: border-box;text-align: center;}#sk-container-id-2 label.sk-toggleable__label-arrow:before {content: \"▸\";float: left;margin-right: 0.25em;color: #696969;}#sk-container-id-2 label.sk-toggleable__label-arrow:hover:before {color: black;}#sk-container-id-2 div.sk-estimator:hover label.sk-toggleable__label-arrow:before {color: black;}#sk-container-id-2 div.sk-toggleable__content {max-height: 0;max-width: 0;overflow: hidden;text-align: left;background-color: #f0f8ff;}#sk-container-id-2 div.sk-toggleable__content pre {margin: 0.2em;color: black;border-radius: 0.25em;background-color: #f0f8ff;}#sk-container-id-2 input.sk-toggleable__control:checked~div.sk-toggleable__content {max-height: 200px;max-width: 100%;overflow: auto;}#sk-container-id-2 input.sk-toggleable__control:checked~label.sk-toggleable__label-arrow:before {content: \"▾\";}#sk-container-id-2 div.sk-estimator input.sk-toggleable__control:checked~label.sk-toggleable__label {background-color: #d4ebff;}#sk-container-id-2 div.sk-label input.sk-toggleable__control:checked~label.sk-toggleable__label {background-color: #d4ebff;}#sk-container-id-2 input.sk-hidden--visually {border: 0;clip: rect(1px 1px 1px 1px);clip: rect(1px, 1px, 1px, 1px);height: 1px;margin: -1px;overflow: hidden;padding: 0;position: absolute;width: 1px;}#sk-container-id-2 div.sk-estimator {font-family: monospace;background-color: #f0f8ff;border: 1px dotted black;border-radius: 0.25em;box-sizing: border-box;margin-bottom: 0.5em;}#sk-container-id-2 div.sk-estimator:hover {background-color: #d4ebff;}#sk-container-id-2 div.sk-parallel-item::after {content: \"\";width: 100%;border-bottom: 1px solid gray;flex-grow: 1;}#sk-container-id-2 div.sk-label:hover label.sk-toggleable__label {background-color: #d4ebff;}#sk-container-id-2 div.sk-serial::before {content: \"\";position: absolute;border-left: 1px solid gray;box-sizing: border-box;top: 0;bottom: 0;left: 50%;z-index: 0;}#sk-container-id-2 div.sk-serial {display: flex;flex-direction: column;align-items: center;background-color: white;padding-right: 0.2em;padding-left: 0.2em;position: relative;}#sk-container-id-2 div.sk-item {position: relative;z-index: 1;}#sk-container-id-2 div.sk-parallel {display: flex;align-items: stretch;justify-content: center;background-color: white;position: relative;}#sk-container-id-2 div.sk-item::before, #sk-container-id-2 div.sk-parallel-item::before {content: \"\";position: absolute;border-left: 1px solid gray;box-sizing: border-box;top: 0;bottom: 0;left: 50%;z-index: -1;}#sk-container-id-2 div.sk-parallel-item {display: flex;flex-direction: column;z-index: 1;position: relative;background-color: white;}#sk-container-id-2 div.sk-parallel-item:first-child::after {align-self: flex-end;width: 50%;}#sk-container-id-2 div.sk-parallel-item:last-child::after {align-self: flex-start;width: 50%;}#sk-container-id-2 div.sk-parallel-item:only-child::after {width: 0;}#sk-container-id-2 div.sk-dashed-wrapped {border: 1px dashed gray;margin: 0 0.4em 0.5em 0.4em;box-sizing: border-box;padding-bottom: 0.4em;background-color: white;}#sk-container-id-2 div.sk-label label {font-family: monospace;font-weight: bold;display: inline-block;line-height: 1.2em;}#sk-container-id-2 div.sk-label-container {text-align: center;}#sk-container-id-2 div.sk-container {/* jupyter's `normalize.less` sets `[hidden] { display: none; }` but bootstrap.min.css set `[hidden] { display: none !important; }` so we also need the `!important` here to be able to override the default hidden behavior on the sphinx rendered scikit-learn.org. See: https://github.com/scikit-learn/scikit-learn/issues/21755 */display: inline-block !important;position: relative;}#sk-container-id-2 div.sk-text-repr-fallback {display: none;}</style><div id=\"sk-container-id-2\" class=\"sk-top-container\"><div class=\"sk-text-repr-fallback\"><pre>RandomForestRegressor()</pre><b>In a Jupyter environment, please rerun this cell to show the HTML representation or trust the notebook. <br />On GitHub, the HTML representation is unable to render, please try loading this page with nbviewer.org.</b></div><div class=\"sk-container\" hidden><div class=\"sk-item\"><div class=\"sk-estimator sk-toggleable\"><input class=\"sk-toggleable__control sk-hidden--visually\" id=\"sk-estimator-id-2\" type=\"checkbox\" checked><label for=\"sk-estimator-id-2\" class=\"sk-toggleable__label sk-toggleable__label-arrow\">RandomForestRegressor</label><div class=\"sk-toggleable__content\"><pre>RandomForestRegressor()</pre></div></div></div></div></div>"
      ],
      "text/plain": [
       "RandomForestRegressor()"
      ]
     },
     "execution_count": 46,
     "metadata": {},
     "output_type": "execute_result"
    }
   ],
   "source": [
    "rf_model=RandomForestRegressor()\n",
    "\n",
    "rf_model.fit(X_train, y_train)"
   ]
  },
  {
   "cell_type": "code",
   "execution_count": 47,
   "id": "a71b2c2c",
   "metadata": {},
   "outputs": [],
   "source": [
    "rf_model_pred=rf_model.predict(X_test)"
   ]
  },
  {
   "cell_type": "code",
   "execution_count": 48,
   "id": "a3ecbae5",
   "metadata": {},
   "outputs": [
    {
     "name": "stdout",
     "output_type": "stream",
     "text": [
      "Root mean squared error: 12.79758379861451\n"
     ]
    }
   ],
   "source": [
    "print(\"Root mean squared error:\", np.sqrt(mean_squared_error(y_test, rf_model_pred)))"
   ]
  },
  {
   "cell_type": "code",
   "execution_count": 49,
   "id": "ae3de403",
   "metadata": {},
   "outputs": [
    {
     "data": {
      "text/html": [
       "<style>#sk-container-id-3 {color: black;}#sk-container-id-3 pre{padding: 0;}#sk-container-id-3 div.sk-toggleable {background-color: white;}#sk-container-id-3 label.sk-toggleable__label {cursor: pointer;display: block;width: 100%;margin-bottom: 0;padding: 0.3em;box-sizing: border-box;text-align: center;}#sk-container-id-3 label.sk-toggleable__label-arrow:before {content: \"▸\";float: left;margin-right: 0.25em;color: #696969;}#sk-container-id-3 label.sk-toggleable__label-arrow:hover:before {color: black;}#sk-container-id-3 div.sk-estimator:hover label.sk-toggleable__label-arrow:before {color: black;}#sk-container-id-3 div.sk-toggleable__content {max-height: 0;max-width: 0;overflow: hidden;text-align: left;background-color: #f0f8ff;}#sk-container-id-3 div.sk-toggleable__content pre {margin: 0.2em;color: black;border-radius: 0.25em;background-color: #f0f8ff;}#sk-container-id-3 input.sk-toggleable__control:checked~div.sk-toggleable__content {max-height: 200px;max-width: 100%;overflow: auto;}#sk-container-id-3 input.sk-toggleable__control:checked~label.sk-toggleable__label-arrow:before {content: \"▾\";}#sk-container-id-3 div.sk-estimator input.sk-toggleable__control:checked~label.sk-toggleable__label {background-color: #d4ebff;}#sk-container-id-3 div.sk-label input.sk-toggleable__control:checked~label.sk-toggleable__label {background-color: #d4ebff;}#sk-container-id-3 input.sk-hidden--visually {border: 0;clip: rect(1px 1px 1px 1px);clip: rect(1px, 1px, 1px, 1px);height: 1px;margin: -1px;overflow: hidden;padding: 0;position: absolute;width: 1px;}#sk-container-id-3 div.sk-estimator {font-family: monospace;background-color: #f0f8ff;border: 1px dotted black;border-radius: 0.25em;box-sizing: border-box;margin-bottom: 0.5em;}#sk-container-id-3 div.sk-estimator:hover {background-color: #d4ebff;}#sk-container-id-3 div.sk-parallel-item::after {content: \"\";width: 100%;border-bottom: 1px solid gray;flex-grow: 1;}#sk-container-id-3 div.sk-label:hover label.sk-toggleable__label {background-color: #d4ebff;}#sk-container-id-3 div.sk-serial::before {content: \"\";position: absolute;border-left: 1px solid gray;box-sizing: border-box;top: 0;bottom: 0;left: 50%;z-index: 0;}#sk-container-id-3 div.sk-serial {display: flex;flex-direction: column;align-items: center;background-color: white;padding-right: 0.2em;padding-left: 0.2em;position: relative;}#sk-container-id-3 div.sk-item {position: relative;z-index: 1;}#sk-container-id-3 div.sk-parallel {display: flex;align-items: stretch;justify-content: center;background-color: white;position: relative;}#sk-container-id-3 div.sk-item::before, #sk-container-id-3 div.sk-parallel-item::before {content: \"\";position: absolute;border-left: 1px solid gray;box-sizing: border-box;top: 0;bottom: 0;left: 50%;z-index: -1;}#sk-container-id-3 div.sk-parallel-item {display: flex;flex-direction: column;z-index: 1;position: relative;background-color: white;}#sk-container-id-3 div.sk-parallel-item:first-child::after {align-self: flex-end;width: 50%;}#sk-container-id-3 div.sk-parallel-item:last-child::after {align-self: flex-start;width: 50%;}#sk-container-id-3 div.sk-parallel-item:only-child::after {width: 0;}#sk-container-id-3 div.sk-dashed-wrapped {border: 1px dashed gray;margin: 0 0.4em 0.5em 0.4em;box-sizing: border-box;padding-bottom: 0.4em;background-color: white;}#sk-container-id-3 div.sk-label label {font-family: monospace;font-weight: bold;display: inline-block;line-height: 1.2em;}#sk-container-id-3 div.sk-label-container {text-align: center;}#sk-container-id-3 div.sk-container {/* jupyter's `normalize.less` sets `[hidden] { display: none; }` but bootstrap.min.css set `[hidden] { display: none !important; }` so we also need the `!important` here to be able to override the default hidden behavior on the sphinx rendered scikit-learn.org. See: https://github.com/scikit-learn/scikit-learn/issues/21755 */display: inline-block !important;position: relative;}#sk-container-id-3 div.sk-text-repr-fallback {display: none;}</style><div id=\"sk-container-id-3\" class=\"sk-top-container\"><div class=\"sk-text-repr-fallback\"><pre>RandomForestRegressor()</pre><b>In a Jupyter environment, please rerun this cell to show the HTML representation or trust the notebook. <br />On GitHub, the HTML representation is unable to render, please try loading this page with nbviewer.org.</b></div><div class=\"sk-container\" hidden><div class=\"sk-item\"><div class=\"sk-estimator sk-toggleable\"><input class=\"sk-toggleable__control sk-hidden--visually\" id=\"sk-estimator-id-3\" type=\"checkbox\" checked><label for=\"sk-estimator-id-3\" class=\"sk-toggleable__label sk-toggleable__label-arrow\">RandomForestRegressor</label><div class=\"sk-toggleable__content\"><pre>RandomForestRegressor()</pre></div></div></div></div></div>"
      ],
      "text/plain": [
       "RandomForestRegressor()"
      ]
     },
     "execution_count": 49,
     "metadata": {},
     "output_type": "execute_result"
    }
   ],
   "source": [
    "rf_model.fit(X_train_scaled, y_train)"
   ]
  },
  {
   "cell_type": "code",
   "execution_count": 50,
   "id": "9e4cc560",
   "metadata": {},
   "outputs": [],
   "source": [
    "rf_model_pred1=rf_model.predict(X_test_scaled)"
   ]
  },
  {
   "cell_type": "code",
   "execution_count": 51,
   "id": "a01e0218",
   "metadata": {},
   "outputs": [
    {
     "name": "stdout",
     "output_type": "stream",
     "text": [
      "Root mean squared error: 12.789055391071807\n"
     ]
    }
   ],
   "source": [
    "print(\"Root mean squared error:\", np.sqrt(mean_squared_error(y_test, rf_model_pred1)))"
   ]
  },
  {
   "cell_type": "code",
   "execution_count": 53,
   "id": "a470a7d4",
   "metadata": {},
   "outputs": [],
   "source": [
    "prediction11=rf_model.predict(test_df_scaled)"
   ]
  },
  {
   "cell_type": "code",
   "execution_count": 54,
   "id": "95579756",
   "metadata": {},
   "outputs": [
    {
     "name": "stdout",
     "output_type": "stream",
     "text": [
      "Submission11 file created\n"
     ]
    }
   ],
   "source": [
    "submission11=pd.DataFrame({'id': test_ids, 'Listening_Time_minutes': prediction11})\n",
    "submission11=submission11.to_csv('submission11.csv', index=False)\n",
    "print(\"Submission11 file created\")"
   ]
  },
  {
   "cell_type": "code",
   "execution_count": 62,
   "id": "25f0d2a2",
   "metadata": {},
   "outputs": [],
   "source": [
    "xgb_model=XGBRegressor()\n",
    "\n",
    "params = {\n",
    "    'n_estimators': [100, 200],\n",
    "    'max_depth': [3, 5, 7],\n",
    "    'learning_rate': [0.01, 0.1, 0.3],\n",
    "    'subsample': [0.8, 1],\n",
    "    'colsample_bytree': [0.8, 1]\n",
    "}\n",
    "\n",
    "grid=RandomizedSearchCV(estimator=xgb_model, param_distributions=params, \n",
    "                    scoring='neg_root_mean_squared_error', \n",
    "                    cv=3, verbose=1)"
   ]
  },
  {
   "cell_type": "code",
   "execution_count": 63,
   "id": "83a49f7b",
   "metadata": {},
   "outputs": [
    {
     "name": "stdout",
     "output_type": "stream",
     "text": [
      "Fitting 3 folds for each of 10 candidates, totalling 30 fits\n",
      "Best Parameters: {'subsample': 1, 'n_estimators': 100, 'max_depth': 7, 'learning_rate': 0.3, 'colsample_bytree': 1}\n"
     ]
    }
   ],
   "source": [
    "grid.fit(X_train_scaled, y_train)\n",
    "\n",
    "best_xgb = grid.best_estimator_\n",
    "print(\"Best Parameters:\", grid.best_params_)"
   ]
  },
  {
   "cell_type": "code",
   "execution_count": 64,
   "id": "f2e72526",
   "metadata": {},
   "outputs": [],
   "source": [
    "xgb_pred=best_xgb.predict(X_test_scaled)"
   ]
  },
  {
   "cell_type": "code",
   "execution_count": 65,
   "id": "81e5141f",
   "metadata": {},
   "outputs": [
    {
     "name": "stdout",
     "output_type": "stream",
     "text": [
      "Root mean squared error: 12.97816750565349\n"
     ]
    }
   ],
   "source": [
    "print(\"Root mean squared error:\", np.sqrt(mean_squared_error(y_test, xgb_pred)))"
   ]
  },
  {
   "cell_type": "code",
   "execution_count": 66,
   "id": "376f4a03",
   "metadata": {},
   "outputs": [],
   "source": [
    "prediction12=best_xgb.predict(test_df_scaled)"
   ]
  },
  {
   "cell_type": "code",
   "execution_count": 67,
   "id": "e3d5e451",
   "metadata": {},
   "outputs": [
    {
     "name": "stdout",
     "output_type": "stream",
     "text": [
      "Submission12 file created\n"
     ]
    }
   ],
   "source": [
    "submission12=pd.DataFrame({'id': test_ids, 'Listening_Time_minutes': prediction12})\n",
    "submission12=submission12.to_csv('submission12.csv', index=False)\n",
    "print(\"Submission12 file created\")"
   ]
  },
  {
   "cell_type": "code",
   "execution_count": null,
   "id": "41299f5d",
   "metadata": {},
   "outputs": [],
   "source": []
  }
 ],
 "metadata": {
  "kernelspec": {
   "display_name": "Python 3 (ipykernel)",
   "language": "python",
   "name": "python3"
  },
  "language_info": {
   "codemirror_mode": {
    "name": "ipython",
    "version": 3
   },
   "file_extension": ".py",
   "mimetype": "text/x-python",
   "name": "python",
   "nbconvert_exporter": "python",
   "pygments_lexer": "ipython3",
   "version": "3.11.4"
  }
 },
 "nbformat": 4,
 "nbformat_minor": 5
}
